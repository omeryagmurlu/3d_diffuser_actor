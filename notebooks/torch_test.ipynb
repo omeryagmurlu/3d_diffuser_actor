{
 "cells": [
  {
   "cell_type": "code",
   "execution_count": 9,
   "metadata": {},
   "outputs": [
    {
     "name": "stdout",
     "output_type": "stream",
     "text": [
      "tensor(0.5000, device='cuda:0') tensor([[[1., 1.],\n",
      "         [1., 1.]],\n",
      "\n",
      "        [[1., 1.],\n",
      "         [1., 1.]]], device='cuda:0')\n",
      "tensor(0.4375, device='cuda:0') tensor([1., 1.], device='cuda:0')\n",
      "0.4375\n"
     ]
    }
   ],
   "source": [
    "import torch\n",
    "\n",
    "a = torch.zeros(4,2,2).to('cuda')\n",
    "\n",
    "fill = torch.ones(2,2).to('cuda')\n",
    "\n",
    "a[[0,1]] = fill\n",
    "\n",
    "print(a.mean(), a[[0,1]])\n",
    "a[0,0,0] = 0\n",
    "print(a.mean(), a[0,1])\n",
    "print(7/16)"
   ]
  }
 ],
 "metadata": {
  "kernelspec": {
   "display_name": "Python 3",
   "language": "python",
   "name": "python3"
  },
  "language_info": {
   "codemirror_mode": {
    "name": "ipython",
    "version": 3
   },
   "file_extension": ".py",
   "mimetype": "text/x-python",
   "name": "python",
   "nbconvert_exporter": "python",
   "pygments_lexer": "ipython3",
   "version": "3.8.19"
  }
 },
 "nbformat": 4,
 "nbformat_minor": 2
}
