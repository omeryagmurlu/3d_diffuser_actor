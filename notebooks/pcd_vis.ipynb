{
 "cells": [
  {
   "cell_type": "code",
   "execution_count": 16,
   "metadata": {},
   "outputs": [],
   "source": [
    "# def render_points_with_color(points, colors, output):\n",
    "#     import open3d as o3d\n",
    "#     from open3d.visualization import Visualizer\n",
    "\n",
    "#     pcd = o3d.geometry.PointCloud()\n",
    "#     pcd.points = o3d.utility.Vector3dVector(points)\n",
    "#     pcd.colors = o3d.utility.Vector3dVector(colors)\n",
    "#     vis = Visualizer()\n",
    "#     vis.create_window(visible=False) #works for me with False, on some systems needs to be true\n",
    "#     vis.add_geometry(pcd)\n",
    "#     vis.update_geometry(pcd)\n",
    "#     vis.poll_events()\n",
    "#     vis.update_renderer()\n",
    "#     vis.capture_screen_image(output)\n",
    "#     vis.destroy_window()\n",
    "\n",
    "def render_points_with_color(points):\n",
    "    from notebooks.visualizer import visualize_pointcloud\n",
    "    visualize_pointcloud(points)"
   ]
  },
  {
   "cell_type": "code",
   "execution_count": 18,
   "metadata": {},
   "outputs": [
    {
     "name": "stdout",
     "output_type": "stream",
     "text": [
      " * Serving Flask app 'notebooks.visualizer'\n",
      " * Debug mode: on\n"
     ]
    },
    {
     "name": "stderr",
     "output_type": "stream",
     "text": [
      "\u001b[31m\u001b[1mWARNING: This is a development server. Do not use it in a production deployment. Use a production WSGI server instead.\u001b[0m\n",
      " * Running on http://127.0.0.1:5000\n",
      "\u001b[33mPress CTRL+C to quit\u001b[0m\n",
      "127.0.0.1 - - [12/Oct/2024 21:31:44] \"GET / HTTP/1.1\" 200 -\n",
      "127.0.0.1 - - [12/Oct/2024 21:31:45] \"\u001b[33mGET /favicon.ico HTTP/1.1\u001b[0m\" 404 -\n"
     ]
    }
   ],
   "source": [
    "import numpy as np\n",
    "\n",
    "points = (np.random.rand(1000, 3) - 0.5) / 4\n",
    "colors = np.random.rand(1000, 3) * 255\n",
    "\n",
    "render_points_with_color(np.concatenate([points, colors], axis=1))"
   ]
  }
 ],
 "metadata": {
  "kernelspec": {
   "display_name": "Python 3",
   "language": "python",
   "name": "python3"
  },
  "language_info": {
   "codemirror_mode": {
    "name": "ipython",
    "version": 3
   },
   "file_extension": ".py",
   "mimetype": "text/x-python",
   "name": "python",
   "nbconvert_exporter": "python",
   "pygments_lexer": "ipython3",
   "version": "3.8.19"
  }
 },
 "nbformat": 4,
 "nbformat_minor": 2
}
