{
 "cells": [
  {
   "cell_type": "code",
   "execution_count": 1,
   "metadata": {},
   "outputs": [
    {
     "name": "stderr",
     "output_type": "stream",
     "text": [
      "/home/i53/student/yagmurlu/micromamba/envs/3d_diffuser_actor/lib/python3.8/site-packages/tqdm/auto.py:21: TqdmWarning: IProgress not found. Please update jupyter and ipywidgets. See https://ipywidgets.readthedocs.io/en/stable/user_install.html\n",
      "  from .autonotebook import tqdm as notebook_tqdm\n"
     ]
    },
    {
     "name": "stdout",
     "output_type": "stream",
     "text": [
      "Debugging...\n"
     ]
    }
   ],
   "source": [
    "import torch\n",
    "print(\"Debugging...\")\n",
    "def custom_repr(self):\n",
    "    return f'{{Tensor:{tuple(self.shape)}}} {original_repr(self)}'\n",
    "\n",
    "original_repr = torch.Tensor.__repr__\n",
    "torch.Tensor.__repr__ = custom_repr"
   ]
  },
  {
   "cell_type": "code",
   "execution_count": 2,
   "metadata": {},
   "outputs": [
    {
     "name": "stderr",
     "output_type": "stream",
     "text": [
      "pybullet build time: Nov 28 2023 23:51:11\n"
     ]
    }
   ],
   "source": [
    "from main_trajectory import traj_collate_fn, fig_to_numpy, Arguments\n",
    "from datasets.dataset_calvin import CalvinDataset\n",
    "import pickle"
   ]
  },
  {
   "cell_type": "code",
   "execution_count": 3,
   "metadata": {},
   "outputs": [],
   "source": [
    "# Parameters from the provided configuration\n",
    "dense_interpolation = 1\n",
    "interpolation_length = 20\n",
    "relative_action = 1\n",
    "\n",
    "image_rescale = \"0.75,1.25\""
   ]
  },
  {
   "cell_type": "code",
   "execution_count": 4,
   "metadata": {},
   "outputs": [
    {
     "name": "stdout",
     "output_type": "stream",
     "text": [
      "Can't find dataset folder ../data/calvin/packaged_debug/training/A+0\n",
      "Can't find dataset folder ../data/calvin/packaged_debug/training/B+0\n",
      "Can't find dataset folder ../data/calvin/packaged_debug/training/C+0\n",
      "Created dataset from ../data/calvin/packaged_debug/training with 9\n",
      "Train dataset initialized\n"
     ]
    }
   ],
   "source": [
    "def load_instructions(instructions, split):\n",
    "    instructions = pickle.load(\n",
    "        open(f\"{instructions}/{split}.pkl\", \"rb\")\n",
    "    )['embeddings']\n",
    "    return instructions\n",
    "\n",
    "# Instruction paths\n",
    "train_instruction = load_instructions(\n",
    "    \"../instructions/calvin_task_debug_D\", 'training'\n",
    ")\n",
    "test_instruction = load_instructions(\n",
    "    \"../instructions/calvin_task_debug_D\", 'validation'\n",
    ")\n",
    "\n",
    "taskvar = [\n",
    "    (\"A\", 0), (\"B\", 0), (\"C\", 0), (\"D\", 0),\n",
    "]\n",
    "\n",
    "# Initialize datasets with specified arguments\n",
    "train_dataset = CalvinDataset(\n",
    "    root=\"../data/calvin/packaged_debug/training\",\n",
    "    instructions=train_instruction,\n",
    "    taskvar=taskvar,\n",
    "    max_episode_length=30,\n",
    "    cache_size=0,\n",
    "    max_episodes_per_task=-1,\n",
    "    num_iters=600000,\n",
    "    cameras=[\"front\", \"wrist\"],\n",
    "    training=True,\n",
    "    image_rescale=tuple(float(x) for x in image_rescale.split(\",\")),\n",
    "    return_low_lvl_trajectory=True,\n",
    "    dense_interpolation=bool(dense_interpolation),\n",
    "    interpolation_length=interpolation_length,\n",
    "    relative_action=bool(relative_action)\n",
    ")\n",
    "\n",
    "print(\"Train dataset initialized\")\n"
   ]
  },
  {
   "cell_type": "code",
   "execution_count": 6,
   "metadata": {},
   "outputs": [
    {
     "name": "stdout",
     "output_type": "stream",
     "text": [
      "dict_keys(['task', 'rgbs', 'pcds', 'action', 'instr', 'curr_gripper', 'curr_gripper_history', 'trajectory', 'trajectory_mask'])\n"
     ]
    }
   ],
   "source": [
    "for episode in train_dataset:\n",
    "    print(episode.keys())\n",
    "\n",
    "    break"
   ]
  }
 ],
 "metadata": {
  "kernelspec": {
   "display_name": "Python 3",
   "language": "python",
   "name": "python3"
  },
  "language_info": {
   "codemirror_mode": {
    "name": "ipython",
    "version": 3
   },
   "file_extension": ".py",
   "mimetype": "text/x-python",
   "name": "python",
   "nbconvert_exporter": "python",
   "pygments_lexer": "ipython3",
   "version": "3.8.19"
  }
 },
 "nbformat": 4,
 "nbformat_minor": 2
}
